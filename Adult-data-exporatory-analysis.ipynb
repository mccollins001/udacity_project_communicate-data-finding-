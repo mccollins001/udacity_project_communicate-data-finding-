{
 "cells": [
  {
   "cell_type": "markdown",
   "id": "a843aca3",
   "metadata": {},
   "source": [
    "# <center>Part I - Exploratory Analysis of Adult Income Dataset</center>\n",
    "### <center>by</center>\n",
    "\n",
    "## <center>Chukwudi Collins Ozoede</center>\n",
    "\n",
    "## Introduction\n",
    "> The US Adult income dataset is a repository of 48,842 entries extracted from the 1994 US Census database. \n",
    "It contains 15 columns before cleaning. Below are the columns and their meaning:\n",
    "\n",
    "### The Dataset\n",
    "- **age:** the age of an individual\n",
    "- **workclass:** a general term to represent the employment status of an individual\n",
    "- **fnlwgt:** final weight. In other words, this is the number of people the census believesthe entry represents..\n",
    "- **education:** the highest level of education achieved by an individual.\n",
    "- **education-num:** the highest level of education achieved in numerical form.\n",
    "- **marital-status:** marital status of an individual.\n",
    "- **occupation:** the general type of occupation of an individual\n",
    "- **relationship:** represents what this individual is relative to others. \n",
    "- **race:** Descriptions of an individual’s race\n",
    "- **sex:** the biological sex of the individual\n",
    "- **capital-gain:** capital gains for an individual\n",
    "- **capital-loss:** capital loss for an individual\n",
    "- **hours-per-week**: the hours an individual has reported to work per week\n",
    "- **native-country:** country of origin for an individual\n",
    "- **Salary:** whether or not an individual makes more than $50,000 annually.\n"
   ]
  },
  {
   "cell_type": "code",
   "execution_count": 1,
   "id": "213ce43c",
   "metadata": {},
   "outputs": [],
   "source": [
    "# import all packages and set plots to be embedded inline\n",
    "import numpy as np\n",
    "import pandas as pd\n",
    "import matplotlib.pyplot as plt\n",
    "import seaborn as sb\n",
    "\n",
    "%matplotlib inline"
   ]
  },
  {
   "cell_type": "markdown",
   "id": "c76c7b99",
   "metadata": {},
   "source": [
    "> Load in your dataset and describe its properties through the questions below. Try and motivate your exploration goals through this section."
   ]
  },
  {
   "cell_type": "code",
   "execution_count": 2,
   "id": "96ec5708",
   "metadata": {},
   "outputs": [
    {
     "data": {
      "text/html": [
       "<div>\n",
       "<style scoped>\n",
       "    .dataframe tbody tr th:only-of-type {\n",
       "        vertical-align: middle;\n",
       "    }\n",
       "\n",
       "    .dataframe tbody tr th {\n",
       "        vertical-align: top;\n",
       "    }\n",
       "\n",
       "    .dataframe thead th {\n",
       "        text-align: right;\n",
       "    }\n",
       "</style>\n",
       "<table border=\"1\" class=\"dataframe\">\n",
       "  <thead>\n",
       "    <tr style=\"text-align: right;\">\n",
       "      <th></th>\n",
       "      <th>age</th>\n",
       "      <th>workclass</th>\n",
       "      <th>fnlwgt</th>\n",
       "      <th>education</th>\n",
       "      <th>education-num</th>\n",
       "      <th>marital-status</th>\n",
       "      <th>occupation</th>\n",
       "      <th>relationship</th>\n",
       "      <th>race</th>\n",
       "      <th>sex</th>\n",
       "      <th>capital-gain</th>\n",
       "      <th>capital-loss</th>\n",
       "      <th>hours-per-week</th>\n",
       "      <th>native-country</th>\n",
       "      <th>salary</th>\n",
       "    </tr>\n",
       "  </thead>\n",
       "  <tbody>\n",
       "    <tr>\n",
       "      <th>2032</th>\n",
       "      <td>34</td>\n",
       "      <td>Private</td>\n",
       "      <td>229732</td>\n",
       "      <td>Assoc-voc</td>\n",
       "      <td>11</td>\n",
       "      <td>Married-civ-spouse</td>\n",
       "      <td>Craft-repair</td>\n",
       "      <td>Husband</td>\n",
       "      <td>White</td>\n",
       "      <td>Male</td>\n",
       "      <td>0</td>\n",
       "      <td>0</td>\n",
       "      <td>40</td>\n",
       "      <td>United-States</td>\n",
       "      <td>&lt;=50K</td>\n",
       "    </tr>\n",
       "    <tr>\n",
       "      <th>21908</th>\n",
       "      <td>36</td>\n",
       "      <td>Private</td>\n",
       "      <td>41017</td>\n",
       "      <td>Some-college</td>\n",
       "      <td>10</td>\n",
       "      <td>Married-civ-spouse</td>\n",
       "      <td>Exec-managerial</td>\n",
       "      <td>Husband</td>\n",
       "      <td>White</td>\n",
       "      <td>Male</td>\n",
       "      <td>0</td>\n",
       "      <td>0</td>\n",
       "      <td>52</td>\n",
       "      <td>United-States</td>\n",
       "      <td>&gt;50K</td>\n",
       "    </tr>\n",
       "    <tr>\n",
       "      <th>23664</th>\n",
       "      <td>56</td>\n",
       "      <td>Private</td>\n",
       "      <td>204816</td>\n",
       "      <td>HS-grad</td>\n",
       "      <td>9</td>\n",
       "      <td>Married-civ-spouse</td>\n",
       "      <td>Sales</td>\n",
       "      <td>Husband</td>\n",
       "      <td>White</td>\n",
       "      <td>Male</td>\n",
       "      <td>0</td>\n",
       "      <td>0</td>\n",
       "      <td>55</td>\n",
       "      <td>United-States</td>\n",
       "      <td>&gt;50K</td>\n",
       "    </tr>\n",
       "    <tr>\n",
       "      <th>5587</th>\n",
       "      <td>31</td>\n",
       "      <td>Private</td>\n",
       "      <td>34572</td>\n",
       "      <td>Assoc-voc</td>\n",
       "      <td>11</td>\n",
       "      <td>Married-civ-spouse</td>\n",
       "      <td>Handlers-cleaners</td>\n",
       "      <td>Husband</td>\n",
       "      <td>White</td>\n",
       "      <td>Male</td>\n",
       "      <td>0</td>\n",
       "      <td>0</td>\n",
       "      <td>45</td>\n",
       "      <td>United-States</td>\n",
       "      <td>&lt;=50K</td>\n",
       "    </tr>\n",
       "    <tr>\n",
       "      <th>20836</th>\n",
       "      <td>39</td>\n",
       "      <td>Private</td>\n",
       "      <td>121590</td>\n",
       "      <td>Some-college</td>\n",
       "      <td>10</td>\n",
       "      <td>Never-married</td>\n",
       "      <td>Prof-specialty</td>\n",
       "      <td>Not-in-family</td>\n",
       "      <td>Black</td>\n",
       "      <td>Male</td>\n",
       "      <td>4787</td>\n",
       "      <td>0</td>\n",
       "      <td>40</td>\n",
       "      <td>United-States</td>\n",
       "      <td>&gt;50K</td>\n",
       "    </tr>\n",
       "    <tr>\n",
       "      <th>4631</th>\n",
       "      <td>19</td>\n",
       "      <td>Private</td>\n",
       "      <td>299050</td>\n",
       "      <td>Some-college</td>\n",
       "      <td>10</td>\n",
       "      <td>Never-married</td>\n",
       "      <td>Adm-clerical</td>\n",
       "      <td>Own-child</td>\n",
       "      <td>White</td>\n",
       "      <td>Male</td>\n",
       "      <td>0</td>\n",
       "      <td>0</td>\n",
       "      <td>20</td>\n",
       "      <td>United-States</td>\n",
       "      <td>&lt;=50K</td>\n",
       "    </tr>\n",
       "    <tr>\n",
       "      <th>14835</th>\n",
       "      <td>44</td>\n",
       "      <td>Private</td>\n",
       "      <td>119281</td>\n",
       "      <td>Prof-school</td>\n",
       "      <td>15</td>\n",
       "      <td>Married-civ-spouse</td>\n",
       "      <td>Prof-specialty</td>\n",
       "      <td>Husband</td>\n",
       "      <td>White</td>\n",
       "      <td>Male</td>\n",
       "      <td>0</td>\n",
       "      <td>0</td>\n",
       "      <td>50</td>\n",
       "      <td>United-States</td>\n",
       "      <td>&gt;50K</td>\n",
       "    </tr>\n",
       "    <tr>\n",
       "      <th>28977</th>\n",
       "      <td>29</td>\n",
       "      <td>Private</td>\n",
       "      <td>122127</td>\n",
       "      <td>Bachelors</td>\n",
       "      <td>13</td>\n",
       "      <td>Never-married</td>\n",
       "      <td>Prof-specialty</td>\n",
       "      <td>Not-in-family</td>\n",
       "      <td>White</td>\n",
       "      <td>Female</td>\n",
       "      <td>8614</td>\n",
       "      <td>0</td>\n",
       "      <td>40</td>\n",
       "      <td>United-States</td>\n",
       "      <td>&gt;50K</td>\n",
       "    </tr>\n",
       "    <tr>\n",
       "      <th>7482</th>\n",
       "      <td>59</td>\n",
       "      <td>Private</td>\n",
       "      <td>192983</td>\n",
       "      <td>HS-grad</td>\n",
       "      <td>9</td>\n",
       "      <td>Separated</td>\n",
       "      <td>Other-service</td>\n",
       "      <td>Not-in-family</td>\n",
       "      <td>White</td>\n",
       "      <td>Female</td>\n",
       "      <td>0</td>\n",
       "      <td>0</td>\n",
       "      <td>40</td>\n",
       "      <td>United-States</td>\n",
       "      <td>&lt;=50K</td>\n",
       "    </tr>\n",
       "    <tr>\n",
       "      <th>19499</th>\n",
       "      <td>45</td>\n",
       "      <td>Private</td>\n",
       "      <td>31339</td>\n",
       "      <td>Bachelors</td>\n",
       "      <td>13</td>\n",
       "      <td>Married-civ-spouse</td>\n",
       "      <td>Adm-clerical</td>\n",
       "      <td>Husband</td>\n",
       "      <td>White</td>\n",
       "      <td>Male</td>\n",
       "      <td>0</td>\n",
       "      <td>0</td>\n",
       "      <td>45</td>\n",
       "      <td>United-States</td>\n",
       "      <td>&gt;50K</td>\n",
       "    </tr>\n",
       "    <tr>\n",
       "      <th>2583</th>\n",
       "      <td>41</td>\n",
       "      <td>Private</td>\n",
       "      <td>168071</td>\n",
       "      <td>Bachelors</td>\n",
       "      <td>13</td>\n",
       "      <td>Married-civ-spouse</td>\n",
       "      <td>Exec-managerial</td>\n",
       "      <td>Husband</td>\n",
       "      <td>White</td>\n",
       "      <td>Male</td>\n",
       "      <td>7298</td>\n",
       "      <td>0</td>\n",
       "      <td>50</td>\n",
       "      <td>United-States</td>\n",
       "      <td>&gt;50K</td>\n",
       "    </tr>\n",
       "    <tr>\n",
       "      <th>19846</th>\n",
       "      <td>23</td>\n",
       "      <td>Local-gov</td>\n",
       "      <td>117618</td>\n",
       "      <td>Bachelors</td>\n",
       "      <td>13</td>\n",
       "      <td>Never-married</td>\n",
       "      <td>Prof-specialty</td>\n",
       "      <td>Own-child</td>\n",
       "      <td>White</td>\n",
       "      <td>Male</td>\n",
       "      <td>0</td>\n",
       "      <td>0</td>\n",
       "      <td>24</td>\n",
       "      <td>United-States</td>\n",
       "      <td>&lt;=50K</td>\n",
       "    </tr>\n",
       "    <tr>\n",
       "      <th>3367</th>\n",
       "      <td>36</td>\n",
       "      <td>Private</td>\n",
       "      <td>84306</td>\n",
       "      <td>Bachelors</td>\n",
       "      <td>13</td>\n",
       "      <td>Married-civ-spouse</td>\n",
       "      <td>Exec-managerial</td>\n",
       "      <td>Husband</td>\n",
       "      <td>White</td>\n",
       "      <td>Male</td>\n",
       "      <td>5013</td>\n",
       "      <td>0</td>\n",
       "      <td>50</td>\n",
       "      <td>United-States</td>\n",
       "      <td>&lt;=50K</td>\n",
       "    </tr>\n",
       "    <tr>\n",
       "      <th>30431</th>\n",
       "      <td>54</td>\n",
       "      <td>Private</td>\n",
       "      <td>172962</td>\n",
       "      <td>Bachelors</td>\n",
       "      <td>13</td>\n",
       "      <td>Divorced</td>\n",
       "      <td>Prof-specialty</td>\n",
       "      <td>Not-in-family</td>\n",
       "      <td>White</td>\n",
       "      <td>Male</td>\n",
       "      <td>0</td>\n",
       "      <td>1340</td>\n",
       "      <td>40</td>\n",
       "      <td>United-States</td>\n",
       "      <td>&lt;=50K</td>\n",
       "    </tr>\n",
       "    <tr>\n",
       "      <th>764</th>\n",
       "      <td>51</td>\n",
       "      <td>Private</td>\n",
       "      <td>386773</td>\n",
       "      <td>Bachelors</td>\n",
       "      <td>13</td>\n",
       "      <td>Never-married</td>\n",
       "      <td>Sales</td>\n",
       "      <td>Not-in-family</td>\n",
       "      <td>White</td>\n",
       "      <td>Male</td>\n",
       "      <td>0</td>\n",
       "      <td>0</td>\n",
       "      <td>55</td>\n",
       "      <td>United-States</td>\n",
       "      <td>&gt;50K</td>\n",
       "    </tr>\n",
       "    <tr>\n",
       "      <th>5380</th>\n",
       "      <td>42</td>\n",
       "      <td>Private</td>\n",
       "      <td>254773</td>\n",
       "      <td>Bachelors</td>\n",
       "      <td>13</td>\n",
       "      <td>Married-civ-spouse</td>\n",
       "      <td>Exec-managerial</td>\n",
       "      <td>Wife</td>\n",
       "      <td>Black</td>\n",
       "      <td>Female</td>\n",
       "      <td>0</td>\n",
       "      <td>0</td>\n",
       "      <td>50</td>\n",
       "      <td>United-States</td>\n",
       "      <td>&gt;50K</td>\n",
       "    </tr>\n",
       "    <tr>\n",
       "      <th>10236</th>\n",
       "      <td>33</td>\n",
       "      <td>State-gov</td>\n",
       "      <td>167474</td>\n",
       "      <td>10th</td>\n",
       "      <td>6</td>\n",
       "      <td>Married-civ-spouse</td>\n",
       "      <td>Handlers-cleaners</td>\n",
       "      <td>Husband</td>\n",
       "      <td>White</td>\n",
       "      <td>Male</td>\n",
       "      <td>0</td>\n",
       "      <td>0</td>\n",
       "      <td>40</td>\n",
       "      <td>United-States</td>\n",
       "      <td>&lt;=50K</td>\n",
       "    </tr>\n",
       "    <tr>\n",
       "      <th>12187</th>\n",
       "      <td>60</td>\n",
       "      <td>Private</td>\n",
       "      <td>178050</td>\n",
       "      <td>HS-grad</td>\n",
       "      <td>9</td>\n",
       "      <td>Divorced</td>\n",
       "      <td>Other-service</td>\n",
       "      <td>Unmarried</td>\n",
       "      <td>Black</td>\n",
       "      <td>Female</td>\n",
       "      <td>0</td>\n",
       "      <td>0</td>\n",
       "      <td>38</td>\n",
       "      <td>United-States</td>\n",
       "      <td>&lt;=50K</td>\n",
       "    </tr>\n",
       "    <tr>\n",
       "      <th>25624</th>\n",
       "      <td>39</td>\n",
       "      <td>Private</td>\n",
       "      <td>30916</td>\n",
       "      <td>HS-grad</td>\n",
       "      <td>9</td>\n",
       "      <td>Married-civ-spouse</td>\n",
       "      <td>Craft-repair</td>\n",
       "      <td>Husband</td>\n",
       "      <td>White</td>\n",
       "      <td>Male</td>\n",
       "      <td>0</td>\n",
       "      <td>0</td>\n",
       "      <td>40</td>\n",
       "      <td>United-States</td>\n",
       "      <td>&lt;=50K</td>\n",
       "    </tr>\n",
       "    <tr>\n",
       "      <th>15779</th>\n",
       "      <td>53</td>\n",
       "      <td>State-gov</td>\n",
       "      <td>281074</td>\n",
       "      <td>HS-grad</td>\n",
       "      <td>9</td>\n",
       "      <td>Divorced</td>\n",
       "      <td>Exec-managerial</td>\n",
       "      <td>Not-in-family</td>\n",
       "      <td>White</td>\n",
       "      <td>Male</td>\n",
       "      <td>0</td>\n",
       "      <td>1092</td>\n",
       "      <td>40</td>\n",
       "      <td>United-States</td>\n",
       "      <td>&lt;=50K</td>\n",
       "    </tr>\n",
       "    <tr>\n",
       "      <th>22327</th>\n",
       "      <td>30</td>\n",
       "      <td>Private</td>\n",
       "      <td>251825</td>\n",
       "      <td>Assoc-acdm</td>\n",
       "      <td>12</td>\n",
       "      <td>Never-married</td>\n",
       "      <td>Machine-op-inspct</td>\n",
       "      <td>Unmarried</td>\n",
       "      <td>Black</td>\n",
       "      <td>Female</td>\n",
       "      <td>0</td>\n",
       "      <td>0</td>\n",
       "      <td>40</td>\n",
       "      <td>United-States</td>\n",
       "      <td>&lt;=50K</td>\n",
       "    </tr>\n",
       "    <tr>\n",
       "      <th>11798</th>\n",
       "      <td>59</td>\n",
       "      <td>Self-emp-inc</td>\n",
       "      <td>223215</td>\n",
       "      <td>Bachelors</td>\n",
       "      <td>13</td>\n",
       "      <td>Married-civ-spouse</td>\n",
       "      <td>Exec-managerial</td>\n",
       "      <td>Husband</td>\n",
       "      <td>White</td>\n",
       "      <td>Male</td>\n",
       "      <td>0</td>\n",
       "      <td>1977</td>\n",
       "      <td>50</td>\n",
       "      <td>United-States</td>\n",
       "      <td>&gt;50K</td>\n",
       "    </tr>\n",
       "    <tr>\n",
       "      <th>14004</th>\n",
       "      <td>60</td>\n",
       "      <td>State-gov</td>\n",
       "      <td>194252</td>\n",
       "      <td>Masters</td>\n",
       "      <td>14</td>\n",
       "      <td>Married-civ-spouse</td>\n",
       "      <td>Exec-managerial</td>\n",
       "      <td>Wife</td>\n",
       "      <td>White</td>\n",
       "      <td>Female</td>\n",
       "      <td>3103</td>\n",
       "      <td>0</td>\n",
       "      <td>40</td>\n",
       "      <td>United-States</td>\n",
       "      <td>&gt;50K</td>\n",
       "    </tr>\n",
       "    <tr>\n",
       "      <th>31256</th>\n",
       "      <td>52</td>\n",
       "      <td>Self-emp-not-inc</td>\n",
       "      <td>34973</td>\n",
       "      <td>HS-grad</td>\n",
       "      <td>9</td>\n",
       "      <td>Married-civ-spouse</td>\n",
       "      <td>Farming-fishing</td>\n",
       "      <td>Husband</td>\n",
       "      <td>White</td>\n",
       "      <td>Male</td>\n",
       "      <td>0</td>\n",
       "      <td>1887</td>\n",
       "      <td>60</td>\n",
       "      <td>United-States</td>\n",
       "      <td>&gt;50K</td>\n",
       "    </tr>\n",
       "    <tr>\n",
       "      <th>30143</th>\n",
       "      <td>54</td>\n",
       "      <td>Self-emp-not-inc</td>\n",
       "      <td>230951</td>\n",
       "      <td>Bachelors</td>\n",
       "      <td>13</td>\n",
       "      <td>Married-civ-spouse</td>\n",
       "      <td>Exec-managerial</td>\n",
       "      <td>Husband</td>\n",
       "      <td>White</td>\n",
       "      <td>Male</td>\n",
       "      <td>0</td>\n",
       "      <td>0</td>\n",
       "      <td>40</td>\n",
       "      <td>United-States</td>\n",
       "      <td>&gt;50K</td>\n",
       "    </tr>\n",
       "    <tr>\n",
       "      <th>20855</th>\n",
       "      <td>22</td>\n",
       "      <td>Private</td>\n",
       "      <td>190968</td>\n",
       "      <td>Some-college</td>\n",
       "      <td>10</td>\n",
       "      <td>Married-civ-spouse</td>\n",
       "      <td>Craft-repair</td>\n",
       "      <td>Husband</td>\n",
       "      <td>White</td>\n",
       "      <td>Male</td>\n",
       "      <td>2407</td>\n",
       "      <td>0</td>\n",
       "      <td>40</td>\n",
       "      <td>United-States</td>\n",
       "      <td>&lt;=50K</td>\n",
       "    </tr>\n",
       "    <tr>\n",
       "      <th>31671</th>\n",
       "      <td>40</td>\n",
       "      <td>Federal-gov</td>\n",
       "      <td>78036</td>\n",
       "      <td>Assoc-voc</td>\n",
       "      <td>11</td>\n",
       "      <td>Married-civ-spouse</td>\n",
       "      <td>Prof-specialty</td>\n",
       "      <td>Wife</td>\n",
       "      <td>White</td>\n",
       "      <td>Female</td>\n",
       "      <td>0</td>\n",
       "      <td>0</td>\n",
       "      <td>65</td>\n",
       "      <td>United-States</td>\n",
       "      <td>&gt;50K</td>\n",
       "    </tr>\n",
       "    <tr>\n",
       "      <th>7068</th>\n",
       "      <td>22</td>\n",
       "      <td>Private</td>\n",
       "      <td>164922</td>\n",
       "      <td>HS-grad</td>\n",
       "      <td>9</td>\n",
       "      <td>Married-civ-spouse</td>\n",
       "      <td>Other-service</td>\n",
       "      <td>Husband</td>\n",
       "      <td>White</td>\n",
       "      <td>Male</td>\n",
       "      <td>0</td>\n",
       "      <td>0</td>\n",
       "      <td>40</td>\n",
       "      <td>United-States</td>\n",
       "      <td>&lt;=50K</td>\n",
       "    </tr>\n",
       "    <tr>\n",
       "      <th>8246</th>\n",
       "      <td>30</td>\n",
       "      <td>Federal-gov</td>\n",
       "      <td>355789</td>\n",
       "      <td>HS-grad</td>\n",
       "      <td>9</td>\n",
       "      <td>Never-married</td>\n",
       "      <td>Adm-clerical</td>\n",
       "      <td>Not-in-family</td>\n",
       "      <td>Black</td>\n",
       "      <td>Female</td>\n",
       "      <td>0</td>\n",
       "      <td>0</td>\n",
       "      <td>50</td>\n",
       "      <td>United-States</td>\n",
       "      <td>&lt;=50K</td>\n",
       "    </tr>\n",
       "    <tr>\n",
       "      <th>5260</th>\n",
       "      <td>21</td>\n",
       "      <td>Private</td>\n",
       "      <td>349365</td>\n",
       "      <td>Some-college</td>\n",
       "      <td>10</td>\n",
       "      <td>Never-married</td>\n",
       "      <td>Adm-clerical</td>\n",
       "      <td>Own-child</td>\n",
       "      <td>White</td>\n",
       "      <td>Female</td>\n",
       "      <td>0</td>\n",
       "      <td>0</td>\n",
       "      <td>15</td>\n",
       "      <td>United-States</td>\n",
       "      <td>&lt;=50K</td>\n",
       "    </tr>\n",
       "    <tr>\n",
       "      <th>10424</th>\n",
       "      <td>51</td>\n",
       "      <td>Private</td>\n",
       "      <td>249644</td>\n",
       "      <td>Some-college</td>\n",
       "      <td>10</td>\n",
       "      <td>Divorced</td>\n",
       "      <td>Craft-repair</td>\n",
       "      <td>Not-in-family</td>\n",
       "      <td>White</td>\n",
       "      <td>Male</td>\n",
       "      <td>0</td>\n",
       "      <td>0</td>\n",
       "      <td>48</td>\n",
       "      <td>United-States</td>\n",
       "      <td>&gt;50K</td>\n",
       "    </tr>\n",
       "    <tr>\n",
       "      <th>22269</th>\n",
       "      <td>42</td>\n",
       "      <td>Private</td>\n",
       "      <td>246011</td>\n",
       "      <td>Bachelors</td>\n",
       "      <td>13</td>\n",
       "      <td>Married-civ-spouse</td>\n",
       "      <td>Prof-specialty</td>\n",
       "      <td>Wife</td>\n",
       "      <td>White</td>\n",
       "      <td>Female</td>\n",
       "      <td>0</td>\n",
       "      <td>0</td>\n",
       "      <td>55</td>\n",
       "      <td>United-States</td>\n",
       "      <td>&lt;=50K</td>\n",
       "    </tr>\n",
       "    <tr>\n",
       "      <th>2420</th>\n",
       "      <td>66</td>\n",
       "      <td>?</td>\n",
       "      <td>177351</td>\n",
       "      <td>Bachelors</td>\n",
       "      <td>13</td>\n",
       "      <td>Married-civ-spouse</td>\n",
       "      <td>?</td>\n",
       "      <td>Husband</td>\n",
       "      <td>White</td>\n",
       "      <td>Male</td>\n",
       "      <td>0</td>\n",
       "      <td>2174</td>\n",
       "      <td>40</td>\n",
       "      <td>United-States</td>\n",
       "      <td>&gt;50K</td>\n",
       "    </tr>\n",
       "    <tr>\n",
       "      <th>10262</th>\n",
       "      <td>39</td>\n",
       "      <td>Private</td>\n",
       "      <td>233428</td>\n",
       "      <td>HS-grad</td>\n",
       "      <td>9</td>\n",
       "      <td>Divorced</td>\n",
       "      <td>Exec-managerial</td>\n",
       "      <td>Other-relative</td>\n",
       "      <td>White</td>\n",
       "      <td>Female</td>\n",
       "      <td>0</td>\n",
       "      <td>0</td>\n",
       "      <td>40</td>\n",
       "      <td>United-States</td>\n",
       "      <td>&lt;=50K</td>\n",
       "    </tr>\n",
       "    <tr>\n",
       "      <th>8725</th>\n",
       "      <td>48</td>\n",
       "      <td>Local-gov</td>\n",
       "      <td>334409</td>\n",
       "      <td>Bachelors</td>\n",
       "      <td>13</td>\n",
       "      <td>Married-civ-spouse</td>\n",
       "      <td>Prof-specialty</td>\n",
       "      <td>Wife</td>\n",
       "      <td>White</td>\n",
       "      <td>Female</td>\n",
       "      <td>0</td>\n",
       "      <td>0</td>\n",
       "      <td>50</td>\n",
       "      <td>United-States</td>\n",
       "      <td>&gt;50K</td>\n",
       "    </tr>\n",
       "    <tr>\n",
       "      <th>24522</th>\n",
       "      <td>48</td>\n",
       "      <td>Self-emp-inc</td>\n",
       "      <td>54190</td>\n",
       "      <td>Prof-school</td>\n",
       "      <td>15</td>\n",
       "      <td>Married-civ-spouse</td>\n",
       "      <td>Prof-specialty</td>\n",
       "      <td>Husband</td>\n",
       "      <td>White</td>\n",
       "      <td>Male</td>\n",
       "      <td>15024</td>\n",
       "      <td>0</td>\n",
       "      <td>40</td>\n",
       "      <td>United-States</td>\n",
       "      <td>&gt;50K</td>\n",
       "    </tr>\n",
       "    <tr>\n",
       "      <th>10255</th>\n",
       "      <td>74</td>\n",
       "      <td>Self-emp-not-inc</td>\n",
       "      <td>104001</td>\n",
       "      <td>HS-grad</td>\n",
       "      <td>9</td>\n",
       "      <td>Married-civ-spouse</td>\n",
       "      <td>Sales</td>\n",
       "      <td>Husband</td>\n",
       "      <td>White</td>\n",
       "      <td>Male</td>\n",
       "      <td>0</td>\n",
       "      <td>0</td>\n",
       "      <td>40</td>\n",
       "      <td>United-States</td>\n",
       "      <td>&gt;50K</td>\n",
       "    </tr>\n",
       "    <tr>\n",
       "      <th>16685</th>\n",
       "      <td>59</td>\n",
       "      <td>Private</td>\n",
       "      <td>38573</td>\n",
       "      <td>Some-college</td>\n",
       "      <td>10</td>\n",
       "      <td>Married-civ-spouse</td>\n",
       "      <td>Exec-managerial</td>\n",
       "      <td>Husband</td>\n",
       "      <td>White</td>\n",
       "      <td>Male</td>\n",
       "      <td>0</td>\n",
       "      <td>0</td>\n",
       "      <td>40</td>\n",
       "      <td>United-States</td>\n",
       "      <td>&gt;50K</td>\n",
       "    </tr>\n",
       "    <tr>\n",
       "      <th>21150</th>\n",
       "      <td>40</td>\n",
       "      <td>Private</td>\n",
       "      <td>222756</td>\n",
       "      <td>Some-college</td>\n",
       "      <td>10</td>\n",
       "      <td>Married-civ-spouse</td>\n",
       "      <td>Machine-op-inspct</td>\n",
       "      <td>Husband</td>\n",
       "      <td>White</td>\n",
       "      <td>Male</td>\n",
       "      <td>0</td>\n",
       "      <td>0</td>\n",
       "      <td>40</td>\n",
       "      <td>United-States</td>\n",
       "      <td>&gt;50K</td>\n",
       "    </tr>\n",
       "    <tr>\n",
       "      <th>31508</th>\n",
       "      <td>48</td>\n",
       "      <td>State-gov</td>\n",
       "      <td>50748</td>\n",
       "      <td>Bachelors</td>\n",
       "      <td>13</td>\n",
       "      <td>Divorced</td>\n",
       "      <td>Adm-clerical</td>\n",
       "      <td>Unmarried</td>\n",
       "      <td>White</td>\n",
       "      <td>Female</td>\n",
       "      <td>0</td>\n",
       "      <td>0</td>\n",
       "      <td>40</td>\n",
       "      <td>United-States</td>\n",
       "      <td>&lt;=50K</td>\n",
       "    </tr>\n",
       "    <tr>\n",
       "      <th>26390</th>\n",
       "      <td>23</td>\n",
       "      <td>Private</td>\n",
       "      <td>216472</td>\n",
       "      <td>Some-college</td>\n",
       "      <td>10</td>\n",
       "      <td>Never-married</td>\n",
       "      <td>Tech-support</td>\n",
       "      <td>Own-child</td>\n",
       "      <td>White</td>\n",
       "      <td>Female</td>\n",
       "      <td>0</td>\n",
       "      <td>0</td>\n",
       "      <td>20</td>\n",
       "      <td>United-States</td>\n",
       "      <td>&lt;=50K</td>\n",
       "    </tr>\n",
       "    <tr>\n",
       "      <th>6147</th>\n",
       "      <td>58</td>\n",
       "      <td>Self-emp-not-inc</td>\n",
       "      <td>204816</td>\n",
       "      <td>Some-college</td>\n",
       "      <td>10</td>\n",
       "      <td>Married-civ-spouse</td>\n",
       "      <td>Exec-managerial</td>\n",
       "      <td>Husband</td>\n",
       "      <td>White</td>\n",
       "      <td>Male</td>\n",
       "      <td>0</td>\n",
       "      <td>0</td>\n",
       "      <td>60</td>\n",
       "      <td>United-States</td>\n",
       "      <td>&gt;50K</td>\n",
       "    </tr>\n",
       "    <tr>\n",
       "      <th>9799</th>\n",
       "      <td>52</td>\n",
       "      <td>Private</td>\n",
       "      <td>84278</td>\n",
       "      <td>Some-college</td>\n",
       "      <td>10</td>\n",
       "      <td>Married-civ-spouse</td>\n",
       "      <td>Exec-managerial</td>\n",
       "      <td>Husband</td>\n",
       "      <td>White</td>\n",
       "      <td>Male</td>\n",
       "      <td>7688</td>\n",
       "      <td>0</td>\n",
       "      <td>55</td>\n",
       "      <td>?</td>\n",
       "      <td>&gt;50K</td>\n",
       "    </tr>\n",
       "    <tr>\n",
       "      <th>14178</th>\n",
       "      <td>71</td>\n",
       "      <td>?</td>\n",
       "      <td>229424</td>\n",
       "      <td>HS-grad</td>\n",
       "      <td>9</td>\n",
       "      <td>Widowed</td>\n",
       "      <td>?</td>\n",
       "      <td>Not-in-family</td>\n",
       "      <td>White</td>\n",
       "      <td>Female</td>\n",
       "      <td>0</td>\n",
       "      <td>0</td>\n",
       "      <td>40</td>\n",
       "      <td>United-States</td>\n",
       "      <td>&lt;=50K</td>\n",
       "    </tr>\n",
       "    <tr>\n",
       "      <th>8664</th>\n",
       "      <td>43</td>\n",
       "      <td>Federal-gov</td>\n",
       "      <td>94937</td>\n",
       "      <td>Bachelors</td>\n",
       "      <td>13</td>\n",
       "      <td>Divorced</td>\n",
       "      <td>Adm-clerical</td>\n",
       "      <td>Unmarried</td>\n",
       "      <td>White</td>\n",
       "      <td>Female</td>\n",
       "      <td>0</td>\n",
       "      <td>0</td>\n",
       "      <td>40</td>\n",
       "      <td>United-States</td>\n",
       "      <td>&lt;=50K</td>\n",
       "    </tr>\n",
       "    <tr>\n",
       "      <th>9189</th>\n",
       "      <td>25</td>\n",
       "      <td>Private</td>\n",
       "      <td>321205</td>\n",
       "      <td>Bachelors</td>\n",
       "      <td>13</td>\n",
       "      <td>Never-married</td>\n",
       "      <td>Exec-managerial</td>\n",
       "      <td>Not-in-family</td>\n",
       "      <td>White</td>\n",
       "      <td>Male</td>\n",
       "      <td>4101</td>\n",
       "      <td>0</td>\n",
       "      <td>35</td>\n",
       "      <td>United-States</td>\n",
       "      <td>&lt;=50K</td>\n",
       "    </tr>\n",
       "    <tr>\n",
       "      <th>32281</th>\n",
       "      <td>50</td>\n",
       "      <td>Private</td>\n",
       "      <td>38795</td>\n",
       "      <td>Bachelors</td>\n",
       "      <td>13</td>\n",
       "      <td>Married-civ-spouse</td>\n",
       "      <td>Prof-specialty</td>\n",
       "      <td>Husband</td>\n",
       "      <td>White</td>\n",
       "      <td>Male</td>\n",
       "      <td>0</td>\n",
       "      <td>0</td>\n",
       "      <td>50</td>\n",
       "      <td>United-States</td>\n",
       "      <td>&lt;=50K</td>\n",
       "    </tr>\n",
       "    <tr>\n",
       "      <th>29875</th>\n",
       "      <td>18</td>\n",
       "      <td>Private</td>\n",
       "      <td>45316</td>\n",
       "      <td>11th</td>\n",
       "      <td>7</td>\n",
       "      <td>Never-married</td>\n",
       "      <td>Other-service</td>\n",
       "      <td>Own-child</td>\n",
       "      <td>White</td>\n",
       "      <td>Female</td>\n",
       "      <td>0</td>\n",
       "      <td>0</td>\n",
       "      <td>20</td>\n",
       "      <td>United-States</td>\n",
       "      <td>&lt;=50K</td>\n",
       "    </tr>\n",
       "    <tr>\n",
       "      <th>25154</th>\n",
       "      <td>35</td>\n",
       "      <td>Private</td>\n",
       "      <td>78247</td>\n",
       "      <td>Assoc-voc</td>\n",
       "      <td>11</td>\n",
       "      <td>Married-civ-spouse</td>\n",
       "      <td>Craft-repair</td>\n",
       "      <td>Husband</td>\n",
       "      <td>White</td>\n",
       "      <td>Male</td>\n",
       "      <td>0</td>\n",
       "      <td>0</td>\n",
       "      <td>50</td>\n",
       "      <td>United-States</td>\n",
       "      <td>&lt;=50K</td>\n",
       "    </tr>\n",
       "    <tr>\n",
       "      <th>25365</th>\n",
       "      <td>36</td>\n",
       "      <td>Private</td>\n",
       "      <td>185394</td>\n",
       "      <td>10th</td>\n",
       "      <td>6</td>\n",
       "      <td>Never-married</td>\n",
       "      <td>Handlers-cleaners</td>\n",
       "      <td>Not-in-family</td>\n",
       "      <td>White</td>\n",
       "      <td>Female</td>\n",
       "      <td>0</td>\n",
       "      <td>0</td>\n",
       "      <td>34</td>\n",
       "      <td>United-States</td>\n",
       "      <td>&lt;=50K</td>\n",
       "    </tr>\n",
       "  </tbody>\n",
       "</table>\n",
       "</div>"
      ],
      "text/plain": [
       "       age         workclass  fnlwgt     education  education-num  \\\n",
       "2032    34           Private  229732     Assoc-voc             11   \n",
       "21908   36           Private   41017  Some-college             10   \n",
       "23664   56           Private  204816       HS-grad              9   \n",
       "5587    31           Private   34572     Assoc-voc             11   \n",
       "20836   39           Private  121590  Some-college             10   \n",
       "4631    19           Private  299050  Some-college             10   \n",
       "14835   44           Private  119281   Prof-school             15   \n",
       "28977   29           Private  122127     Bachelors             13   \n",
       "7482    59           Private  192983       HS-grad              9   \n",
       "19499   45           Private   31339     Bachelors             13   \n",
       "2583    41           Private  168071     Bachelors             13   \n",
       "19846   23         Local-gov  117618     Bachelors             13   \n",
       "3367    36           Private   84306     Bachelors             13   \n",
       "30431   54           Private  172962     Bachelors             13   \n",
       "764     51           Private  386773     Bachelors             13   \n",
       "5380    42           Private  254773     Bachelors             13   \n",
       "10236   33         State-gov  167474          10th              6   \n",
       "12187   60           Private  178050       HS-grad              9   \n",
       "25624   39           Private   30916       HS-grad              9   \n",
       "15779   53         State-gov  281074       HS-grad              9   \n",
       "22327   30           Private  251825    Assoc-acdm             12   \n",
       "11798   59      Self-emp-inc  223215     Bachelors             13   \n",
       "14004   60         State-gov  194252       Masters             14   \n",
       "31256   52  Self-emp-not-inc   34973       HS-grad              9   \n",
       "30143   54  Self-emp-not-inc  230951     Bachelors             13   \n",
       "20855   22           Private  190968  Some-college             10   \n",
       "31671   40       Federal-gov   78036     Assoc-voc             11   \n",
       "7068    22           Private  164922       HS-grad              9   \n",
       "8246    30       Federal-gov  355789       HS-grad              9   \n",
       "5260    21           Private  349365  Some-college             10   \n",
       "10424   51           Private  249644  Some-college             10   \n",
       "22269   42           Private  246011     Bachelors             13   \n",
       "2420    66                 ?  177351     Bachelors             13   \n",
       "10262   39           Private  233428       HS-grad              9   \n",
       "8725    48         Local-gov  334409     Bachelors             13   \n",
       "24522   48      Self-emp-inc   54190   Prof-school             15   \n",
       "10255   74  Self-emp-not-inc  104001       HS-grad              9   \n",
       "16685   59           Private   38573  Some-college             10   \n",
       "21150   40           Private  222756  Some-college             10   \n",
       "31508   48         State-gov   50748     Bachelors             13   \n",
       "26390   23           Private  216472  Some-college             10   \n",
       "6147    58  Self-emp-not-inc  204816  Some-college             10   \n",
       "9799    52           Private   84278  Some-college             10   \n",
       "14178   71                 ?  229424       HS-grad              9   \n",
       "8664    43       Federal-gov   94937     Bachelors             13   \n",
       "9189    25           Private  321205     Bachelors             13   \n",
       "32281   50           Private   38795     Bachelors             13   \n",
       "29875   18           Private   45316          11th              7   \n",
       "25154   35           Private   78247     Assoc-voc             11   \n",
       "25365   36           Private  185394          10th              6   \n",
       "\n",
       "           marital-status         occupation    relationship   race     sex  \\\n",
       "2032   Married-civ-spouse       Craft-repair         Husband  White    Male   \n",
       "21908  Married-civ-spouse    Exec-managerial         Husband  White    Male   \n",
       "23664  Married-civ-spouse              Sales         Husband  White    Male   \n",
       "5587   Married-civ-spouse  Handlers-cleaners         Husband  White    Male   \n",
       "20836       Never-married     Prof-specialty   Not-in-family  Black    Male   \n",
       "4631        Never-married       Adm-clerical       Own-child  White    Male   \n",
       "14835  Married-civ-spouse     Prof-specialty         Husband  White    Male   \n",
       "28977       Never-married     Prof-specialty   Not-in-family  White  Female   \n",
       "7482            Separated      Other-service   Not-in-family  White  Female   \n",
       "19499  Married-civ-spouse       Adm-clerical         Husband  White    Male   \n",
       "2583   Married-civ-spouse    Exec-managerial         Husband  White    Male   \n",
       "19846       Never-married     Prof-specialty       Own-child  White    Male   \n",
       "3367   Married-civ-spouse    Exec-managerial         Husband  White    Male   \n",
       "30431            Divorced     Prof-specialty   Not-in-family  White    Male   \n",
       "764         Never-married              Sales   Not-in-family  White    Male   \n",
       "5380   Married-civ-spouse    Exec-managerial            Wife  Black  Female   \n",
       "10236  Married-civ-spouse  Handlers-cleaners         Husband  White    Male   \n",
       "12187            Divorced      Other-service       Unmarried  Black  Female   \n",
       "25624  Married-civ-spouse       Craft-repair         Husband  White    Male   \n",
       "15779            Divorced    Exec-managerial   Not-in-family  White    Male   \n",
       "22327       Never-married  Machine-op-inspct       Unmarried  Black  Female   \n",
       "11798  Married-civ-spouse    Exec-managerial         Husband  White    Male   \n",
       "14004  Married-civ-spouse    Exec-managerial            Wife  White  Female   \n",
       "31256  Married-civ-spouse    Farming-fishing         Husband  White    Male   \n",
       "30143  Married-civ-spouse    Exec-managerial         Husband  White    Male   \n",
       "20855  Married-civ-spouse       Craft-repair         Husband  White    Male   \n",
       "31671  Married-civ-spouse     Prof-specialty            Wife  White  Female   \n",
       "7068   Married-civ-spouse      Other-service         Husband  White    Male   \n",
       "8246        Never-married       Adm-clerical   Not-in-family  Black  Female   \n",
       "5260        Never-married       Adm-clerical       Own-child  White  Female   \n",
       "10424            Divorced       Craft-repair   Not-in-family  White    Male   \n",
       "22269  Married-civ-spouse     Prof-specialty            Wife  White  Female   \n",
       "2420   Married-civ-spouse                  ?         Husband  White    Male   \n",
       "10262            Divorced    Exec-managerial  Other-relative  White  Female   \n",
       "8725   Married-civ-spouse     Prof-specialty            Wife  White  Female   \n",
       "24522  Married-civ-spouse     Prof-specialty         Husband  White    Male   \n",
       "10255  Married-civ-spouse              Sales         Husband  White    Male   \n",
       "16685  Married-civ-spouse    Exec-managerial         Husband  White    Male   \n",
       "21150  Married-civ-spouse  Machine-op-inspct         Husband  White    Male   \n",
       "31508            Divorced       Adm-clerical       Unmarried  White  Female   \n",
       "26390       Never-married       Tech-support       Own-child  White  Female   \n",
       "6147   Married-civ-spouse    Exec-managerial         Husband  White    Male   \n",
       "9799   Married-civ-spouse    Exec-managerial         Husband  White    Male   \n",
       "14178             Widowed                  ?   Not-in-family  White  Female   \n",
       "8664             Divorced       Adm-clerical       Unmarried  White  Female   \n",
       "9189        Never-married    Exec-managerial   Not-in-family  White    Male   \n",
       "32281  Married-civ-spouse     Prof-specialty         Husband  White    Male   \n",
       "29875       Never-married      Other-service       Own-child  White  Female   \n",
       "25154  Married-civ-spouse       Craft-repair         Husband  White    Male   \n",
       "25365       Never-married  Handlers-cleaners   Not-in-family  White  Female   \n",
       "\n",
       "       capital-gain  capital-loss  hours-per-week native-country salary  \n",
       "2032              0             0              40  United-States  <=50K  \n",
       "21908             0             0              52  United-States   >50K  \n",
       "23664             0             0              55  United-States   >50K  \n",
       "5587              0             0              45  United-States  <=50K  \n",
       "20836          4787             0              40  United-States   >50K  \n",
       "4631              0             0              20  United-States  <=50K  \n",
       "14835             0             0              50  United-States   >50K  \n",
       "28977          8614             0              40  United-States   >50K  \n",
       "7482              0             0              40  United-States  <=50K  \n",
       "19499             0             0              45  United-States   >50K  \n",
       "2583           7298             0              50  United-States   >50K  \n",
       "19846             0             0              24  United-States  <=50K  \n",
       "3367           5013             0              50  United-States  <=50K  \n",
       "30431             0          1340              40  United-States  <=50K  \n",
       "764               0             0              55  United-States   >50K  \n",
       "5380              0             0              50  United-States   >50K  \n",
       "10236             0             0              40  United-States  <=50K  \n",
       "12187             0             0              38  United-States  <=50K  \n",
       "25624             0             0              40  United-States  <=50K  \n",
       "15779             0          1092              40  United-States  <=50K  \n",
       "22327             0             0              40  United-States  <=50K  \n",
       "11798             0          1977              50  United-States   >50K  \n",
       "14004          3103             0              40  United-States   >50K  \n",
       "31256             0          1887              60  United-States   >50K  \n",
       "30143             0             0              40  United-States   >50K  \n",
       "20855          2407             0              40  United-States  <=50K  \n",
       "31671             0             0              65  United-States   >50K  \n",
       "7068              0             0              40  United-States  <=50K  \n",
       "8246              0             0              50  United-States  <=50K  \n",
       "5260              0             0              15  United-States  <=50K  \n",
       "10424             0             0              48  United-States   >50K  \n",
       "22269             0             0              55  United-States  <=50K  \n",
       "2420              0          2174              40  United-States   >50K  \n",
       "10262             0             0              40  United-States  <=50K  \n",
       "8725              0             0              50  United-States   >50K  \n",
       "24522         15024             0              40  United-States   >50K  \n",
       "10255             0             0              40  United-States   >50K  \n",
       "16685             0             0              40  United-States   >50K  \n",
       "21150             0             0              40  United-States   >50K  \n",
       "31508             0             0              40  United-States  <=50K  \n",
       "26390             0             0              20  United-States  <=50K  \n",
       "6147              0             0              60  United-States   >50K  \n",
       "9799           7688             0              55              ?   >50K  \n",
       "14178             0             0              40  United-States  <=50K  \n",
       "8664              0             0              40  United-States  <=50K  \n",
       "9189           4101             0              35  United-States  <=50K  \n",
       "32281             0             0              50  United-States  <=50K  \n",
       "29875             0             0              20  United-States  <=50K  \n",
       "25154             0             0              50  United-States  <=50K  \n",
       "25365             0             0              34  United-States  <=50K  "
      ]
     },
     "execution_count": 2,
     "metadata": {},
     "output_type": "execute_result"
    }
   ],
   "source": [
    "adult_df = pd.read_csv('adult.data.csv')\n",
    "adult_df.sample(50)"
   ]
  },
  {
   "cell_type": "code",
   "execution_count": 3,
   "id": "6a630b02",
   "metadata": {},
   "outputs": [
    {
     "name": "stdout",
     "output_type": "stream",
     "text": [
      "(32561, 15)\n",
      "age                int64\n",
      "workclass         object\n",
      "fnlwgt             int64\n",
      "education         object\n",
      "education-num      int64\n",
      "marital-status    object\n",
      "occupation        object\n",
      "relationship      object\n",
      "race              object\n",
      "sex               object\n",
      "capital-gain       int64\n",
      "capital-loss       int64\n",
      "hours-per-week     int64\n",
      "native-country    object\n",
      "salary            object\n",
      "dtype: object\n",
      "<class 'pandas.core.frame.DataFrame'>\n",
      "RangeIndex: 32561 entries, 0 to 32560\n",
      "Data columns (total 15 columns):\n",
      " #   Column          Non-Null Count  Dtype \n",
      "---  ------          --------------  ----- \n",
      " 0   age             32561 non-null  int64 \n",
      " 1   workclass       32561 non-null  object\n",
      " 2   fnlwgt          32561 non-null  int64 \n",
      " 3   education       32561 non-null  object\n",
      " 4   education-num   32561 non-null  int64 \n",
      " 5   marital-status  32561 non-null  object\n",
      " 6   occupation      32561 non-null  object\n",
      " 7   relationship    32561 non-null  object\n",
      " 8   race            32561 non-null  object\n",
      " 9   sex             32561 non-null  object\n",
      " 10  capital-gain    32561 non-null  int64 \n",
      " 11  capital-loss    32561 non-null  int64 \n",
      " 12  hours-per-week  32561 non-null  int64 \n",
      " 13  native-country  32561 non-null  object\n",
      " 14  salary          32561 non-null  object\n",
      "dtypes: int64(6), object(9)\n",
      "memory usage: 3.7+ MB\n",
      "None\n"
     ]
    }
   ],
   "source": [
    "# this is an overview of the data shape and composition\n",
    "print(adult_df.shape)\n",
    "print(adult_df.dtypes)\n",
    "print(adult_df.info())"
   ]
  },
  {
   "cell_type": "code",
   "execution_count": 4,
   "id": "d037e8ab",
   "metadata": {},
   "outputs": [],
   "source": [
    "# making a copy of the dataframe before cleaning and analysis\n",
    "df = adult_df.copy()"
   ]
  },
  {
   "cell_type": "markdown",
   "id": "ba96fa7a",
   "metadata": {},
   "source": [
    "### Data cleaning\n",
    "- Unnecessary columns have to be removed from the dataset\n",
    "- I discovered that some cells have '?' as their values, they should all be changed to NAN\n",
    "- I need to create a new column `age_group` to store age groups"
   ]
  },
  {
   "cell_type": "markdown",
   "id": "8f3d5dbd",
   "metadata": {},
   "source": [
    "#### Issue 1:\n",
    "Removing unnecessary columns from the dataframe"
   ]
  },
  {
   "cell_type": "code",
   "execution_count": 5,
   "id": "85fdeedc",
   "metadata": {},
   "outputs": [
    {
     "data": {
      "text/html": [
       "<div>\n",
       "<style scoped>\n",
       "    .dataframe tbody tr th:only-of-type {\n",
       "        vertical-align: middle;\n",
       "    }\n",
       "\n",
       "    .dataframe tbody tr th {\n",
       "        vertical-align: top;\n",
       "    }\n",
       "\n",
       "    .dataframe thead th {\n",
       "        text-align: right;\n",
       "    }\n",
       "</style>\n",
       "<table border=\"1\" class=\"dataframe\">\n",
       "  <thead>\n",
       "    <tr style=\"text-align: right;\">\n",
       "      <th></th>\n",
       "      <th>age</th>\n",
       "      <th>workclass</th>\n",
       "      <th>education</th>\n",
       "      <th>marital-status</th>\n",
       "      <th>occupation</th>\n",
       "      <th>relationship</th>\n",
       "      <th>race</th>\n",
       "      <th>sex</th>\n",
       "      <th>hours-per-week</th>\n",
       "      <th>native-country</th>\n",
       "      <th>salary</th>\n",
       "    </tr>\n",
       "  </thead>\n",
       "  <tbody>\n",
       "    <tr>\n",
       "      <th>0</th>\n",
       "      <td>39</td>\n",
       "      <td>State-gov</td>\n",
       "      <td>Bachelors</td>\n",
       "      <td>Never-married</td>\n",
       "      <td>Adm-clerical</td>\n",
       "      <td>Not-in-family</td>\n",
       "      <td>White</td>\n",
       "      <td>Male</td>\n",
       "      <td>40</td>\n",
       "      <td>United-States</td>\n",
       "      <td>&lt;=50K</td>\n",
       "    </tr>\n",
       "  </tbody>\n",
       "</table>\n",
       "</div>"
      ],
      "text/plain": [
       "   age  workclass  education marital-status    occupation   relationship  \\\n",
       "0   39  State-gov  Bachelors  Never-married  Adm-clerical  Not-in-family   \n",
       "\n",
       "    race   sex  hours-per-week native-country salary  \n",
       "0  White  Male              40  United-States  <=50K  "
      ]
     },
     "execution_count": 5,
     "metadata": {},
     "output_type": "execute_result"
    }
   ],
   "source": [
    "# subseting for the columns needed for this ananlysis\n",
    "df = df[['age','workclass','education','marital-status', 'occupation', 'relationship', \n",
    "         'race', 'sex', 'hours-per-week', 'native-country','salary']]\n",
    "df.head(1)"
   ]
  },
  {
   "cell_type": "markdown",
   "id": "faaef39b",
   "metadata": {},
   "source": [
    "#### Issue 2: \n",
    "changing '?' values to NAN "
   ]
  },
  {
   "cell_type": "code",
   "execution_count": 6,
   "id": "bf378a8a",
   "metadata": {},
   "outputs": [
    {
     "data": {
      "text/html": [
       "<div>\n",
       "<style scoped>\n",
       "    .dataframe tbody tr th:only-of-type {\n",
       "        vertical-align: middle;\n",
       "    }\n",
       "\n",
       "    .dataframe tbody tr th {\n",
       "        vertical-align: top;\n",
       "    }\n",
       "\n",
       "    .dataframe thead th {\n",
       "        text-align: right;\n",
       "    }\n",
       "</style>\n",
       "<table border=\"1\" class=\"dataframe\">\n",
       "  <thead>\n",
       "    <tr style=\"text-align: right;\">\n",
       "      <th></th>\n",
       "      <th>age</th>\n",
       "      <th>workclass</th>\n",
       "      <th>education</th>\n",
       "      <th>marital-status</th>\n",
       "      <th>occupation</th>\n",
       "      <th>relationship</th>\n",
       "      <th>race</th>\n",
       "      <th>sex</th>\n",
       "      <th>hours-per-week</th>\n",
       "      <th>native-country</th>\n",
       "      <th>salary</th>\n",
       "    </tr>\n",
       "  </thead>\n",
       "  <tbody>\n",
       "    <tr>\n",
       "      <th>0</th>\n",
       "      <td>39</td>\n",
       "      <td>State-gov</td>\n",
       "      <td>Bachelors</td>\n",
       "      <td>Never-married</td>\n",
       "      <td>Adm-clerical</td>\n",
       "      <td>Not-in-family</td>\n",
       "      <td>White</td>\n",
       "      <td>Male</td>\n",
       "      <td>40</td>\n",
       "      <td>United-States</td>\n",
       "      <td>&lt;=50K</td>\n",
       "    </tr>\n",
       "    <tr>\n",
       "      <th>1</th>\n",
       "      <td>50</td>\n",
       "      <td>Self-emp-not-inc</td>\n",
       "      <td>Bachelors</td>\n",
       "      <td>Married-civ-spouse</td>\n",
       "      <td>Exec-managerial</td>\n",
       "      <td>Husband</td>\n",
       "      <td>White</td>\n",
       "      <td>Male</td>\n",
       "      <td>13</td>\n",
       "      <td>United-States</td>\n",
       "      <td>&lt;=50K</td>\n",
       "    </tr>\n",
       "    <tr>\n",
       "      <th>2</th>\n",
       "      <td>38</td>\n",
       "      <td>Private</td>\n",
       "      <td>HS-grad</td>\n",
       "      <td>Divorced</td>\n",
       "      <td>Handlers-cleaners</td>\n",
       "      <td>Not-in-family</td>\n",
       "      <td>White</td>\n",
       "      <td>Male</td>\n",
       "      <td>40</td>\n",
       "      <td>United-States</td>\n",
       "      <td>&lt;=50K</td>\n",
       "    </tr>\n",
       "    <tr>\n",
       "      <th>3</th>\n",
       "      <td>53</td>\n",
       "      <td>Private</td>\n",
       "      <td>11th</td>\n",
       "      <td>Married-civ-spouse</td>\n",
       "      <td>Handlers-cleaners</td>\n",
       "      <td>Husband</td>\n",
       "      <td>Black</td>\n",
       "      <td>Male</td>\n",
       "      <td>40</td>\n",
       "      <td>United-States</td>\n",
       "      <td>&lt;=50K</td>\n",
       "    </tr>\n",
       "    <tr>\n",
       "      <th>4</th>\n",
       "      <td>28</td>\n",
       "      <td>Private</td>\n",
       "      <td>Bachelors</td>\n",
       "      <td>Married-civ-spouse</td>\n",
       "      <td>Prof-specialty</td>\n",
       "      <td>Wife</td>\n",
       "      <td>Black</td>\n",
       "      <td>Female</td>\n",
       "      <td>40</td>\n",
       "      <td>Cuba</td>\n",
       "      <td>&lt;=50K</td>\n",
       "    </tr>\n",
       "  </tbody>\n",
       "</table>\n",
       "</div>"
      ],
      "text/plain": [
       "   age         workclass  education      marital-status         occupation  \\\n",
       "0   39         State-gov  Bachelors       Never-married       Adm-clerical   \n",
       "1   50  Self-emp-not-inc  Bachelors  Married-civ-spouse    Exec-managerial   \n",
       "2   38           Private    HS-grad            Divorced  Handlers-cleaners   \n",
       "3   53           Private       11th  Married-civ-spouse  Handlers-cleaners   \n",
       "4   28           Private  Bachelors  Married-civ-spouse     Prof-specialty   \n",
       "\n",
       "    relationship   race     sex  hours-per-week native-country salary  \n",
       "0  Not-in-family  White    Male              40  United-States  <=50K  \n",
       "1        Husband  White    Male              13  United-States  <=50K  \n",
       "2  Not-in-family  White    Male              40  United-States  <=50K  \n",
       "3        Husband  Black    Male              40  United-States  <=50K  \n",
       "4           Wife  Black  Female              40           Cuba  <=50K  "
      ]
     },
     "execution_count": 6,
     "metadata": {},
     "output_type": "execute_result"
    }
   ],
   "source": [
    "#solution:\n",
    "df = df.replace('?', np.nan)\n",
    "df.head(5)"
   ]
  },
  {
   "cell_type": "markdown",
   "id": "ef049aaa",
   "metadata": {},
   "source": [
    "#### Issue 3:\n",
    "Create new column `age_group` "
   ]
  },
  {
   "cell_type": "code",
   "execution_count": 7,
   "id": "fa76506b",
   "metadata": {},
   "outputs": [
    {
     "data": {
      "text/plain": [
       "\"\\nconditions = [\\n    (df['age']<=20),\\n    (df['age']>20) & (df['age']<31),\\n    (df['age']>30) & (df['age']<41),\\n    (df['age']>40) & (df['age']<51),\\n    (df['age']>50) & (df['age']<61),\\n    (df['age']>60) & (df['age']<71),\\n    (df['age']>70) & (df['age']<81),\\n    (df['age']>80),\\n    ]\\n\\n# create a list of the values we want to assign for each condition\\nvalues = ['17-20', '21-30', '31-40', '41-50', '51-60', '61-70', '71-80', 'above 80']\\n\\n# create a new column and use np.select to assign values to it using our lists as arguments\\ndf['age_group'] = np.select(conditions, values)\\n\\n\\n\\n# display updated DataFrame\\ndf.head()\\n\""
      ]
     },
     "execution_count": 7,
     "metadata": {},
     "output_type": "execute_result"
    }
   ],
   "source": [
    "#create an age group to avoid noisy and clustered visuals \n",
    "ages = df.age\n",
    "age_group = []\n",
    "for i, age in ages.items():\n",
    "    \n",
    "    if age <= 20:\n",
    "        age_group.append('17-20')\n",
    "    elif age>20 and age<31:\n",
    "        age_group.append('21-30')\n",
    "    elif age>30 and age<41:\n",
    "        age_group.append('31-40')\n",
    "    elif age>40 and age<51:\n",
    "        age_group.append('41-50')\n",
    "    elif age>50 and age<61:\n",
    "        age_group.append('51-60')\n",
    "    elif age>60 and age<71:\n",
    "        age_group.append('61-70')\n",
    "    elif age>70 and age<81:\n",
    "        age_group.append('71-80')\n",
    "    else:\n",
    "        age_group.append('above 80')\n",
    "df['age_group']= age_group\n",
    "\n",
    "\n",
    "# this method can also be used\n",
    "\"\"\"\n",
    "conditions = [\n",
    "    (df['age']<=20),\n",
    "    (df['age']>20) & (df['age']<31),\n",
    "    (df['age']>30) & (df['age']<41),\n",
    "    (df['age']>40) & (df['age']<51),\n",
    "    (df['age']>50) & (df['age']<61),\n",
    "    (df['age']>60) & (df['age']<71),\n",
    "    (df['age']>70) & (df['age']<81),\n",
    "    (df['age']>80),\n",
    "    ]\n",
    "\n",
    "# create a list of the values we want to assign for each condition\n",
    "values = ['17-20', '21-30', '31-40', '41-50', '51-60', '61-70', '71-80', 'above 80']\n",
    "\n",
    "# create a new column and use np.select to assign values to it using our lists as arguments\n",
    "df['age_group'] = np.select(conditions, values)\n",
    "\n",
    "\n",
    "\n",
    "# display updated DataFrame\n",
    "df.head()\n",
    "\"\"\""
   ]
  },
  {
   "cell_type": "markdown",
   "id": "bc3bb421",
   "metadata": {},
   "source": [
    "### What is the structure of your dataset?\n",
    "\n",
    "> My dataset contains 32561 rows and 16 columns, It contains no null values \n",
    "\n",
    "### What is/are the main feature(s) of interest in your dataset?\n",
    "\n",
    "> The main porpose of this analysis is to find the distribution of salary in the US and how it is affected by different factors such as age, race, education etc.\n",
    "\n",
    "### What features in the dataset do you think will help support your investigation into your feature(s) of interest?\n",
    "\n",
    ">What my investigation is looking for is how different factors (columns) such as education, marital-status, native country make people make less than 50k usd or more "
   ]
  },
  {
   "cell_type": "markdown",
   "id": "03693cbb",
   "metadata": {},
   "source": [
    "## Univariate Exploration\n",
    "\n",
    "> In this section, I will investigate distributions of individual variables. If\n",
    "I see unusual points or outliers, I will take a deeper look to clean things up\n",
    "and prepare myself to look at relationships between variables."
   ]
  },
  {
   "cell_type": "markdown",
   "id": "a8cdc268",
   "metadata": {},
   "source": [
    "### Question 1:\n",
    "what percentage of people earn above and below 50k usd"
   ]
  },
  {
   "cell_type": "markdown",
   "id": "8db9ec7f",
   "metadata": {},
   "source": [
    "### visualization : "
   ]
  },
  {
   "cell_type": "code",
   "execution_count": 8,
   "id": "89124c4a",
   "metadata": {},
   "outputs": [
    {
     "data": {
      "text/plain": [
       "['<=50K', '>50K']"
      ]
     },
     "execution_count": 8,
     "metadata": {},
     "output_type": "execute_result"
    }
   ],
   "source": [
    "# getting the distribution by salary group\n",
    "sal_dist= df['salary'].value_counts().reset_index()\n",
    "(list(sal_dist['index']))"
   ]
  },
  {
   "cell_type": "code",
   "execution_count": 9,
   "id": "d82f3f32",
   "metadata": {},
   "outputs": [
    {
     "data": {
      "image/png": "[encoded data removed]",
      "text/plain": [
       "<Figure size 432x432 with 1 Axes>"
      ]
     },
     "metadata": {},
     "output_type": "display_data"
    }
   ],
   "source": [
    "#plotting a pie since we only have 2 variables\n",
    "\n",
    "#creating a function for the pie\n",
    "def pie_1(data, title, explode,legend, fig_x =6, fig_y=6, shadow = False, startangle =90,autopct ='%1.1f%%'):\n",
    "    plt.figure(figsize=[fig_x, fig_y])\n",
    "    \n",
    "    plt.pie(data, explode = explode, autopct=autopct ,shadow=shadow, startangle=startangle)\n",
    "    plt.title(title)\n",
    "    plt.legend(legend)\n",
    "    \n",
    "#calling the function    \n",
    "pie_1(list(sal_dist['salary']),title = 'salary distribution' ,fig_x =6, fig_y=6, \n",
    "      explode =[0.1,0], shadow = True, legend = (list(sal_dist['index'])));"
   ]
  },
  {
   "cell_type": "markdown",
   "id": "b3d2c527",
   "metadata": {},
   "source": [
    "### observations:\n",
    "I can observe that about 76% of the people earn 50k and below while 24% earn above 50k"
   ]
  },
  {
   "cell_type": "markdown",
   "id": "89983dde",
   "metadata": {},
   "source": [
    "### Question 2: \n",
    "Which race do these people belong to"
   ]
  },
  {
   "cell_type": "markdown",
   "id": "a3d9b646",
   "metadata": {},
   "source": [
    "### Visualization:"
   ]
  },
  {
   "cell_type": "code",
   "execution_count": 10,
   "id": "c4d6bd76",
   "metadata": {},
   "outputs": [
    {
     "data": {
      "text/plain": [
       "White                 27816\n",
       "Black                  3124\n",
       "Asian-Pac-Islander     1039\n",
       "Amer-Indian-Eskimo      311\n",
       "Other                   271\n",
       "Name: race, dtype: int64"
      ]
     },
     "execution_count": 10,
     "metadata": {},
     "output_type": "execute_result"
    }
   ],
   "source": [
    "# grouping by race\n",
    "top_10 = df['race'].value_counts()\n",
    "top_10"
   ]
  },
  {
   "cell_type": "code",
   "execution_count": 11,
   "id": "3378b971",
   "metadata": {},
   "outputs": [
    {
     "data": {
      "image/png": "[encoded data removed]",
      "text/plain": [
       "<Figure size 432x288 with 1 Axes>"
      ]
     },
     "metadata": {
      "needs_background": "light"
     },
     "output_type": "display_data"
    }
   ],
   "source": [
    "#plotting a horizontal barchart\n",
    "plt.barh(top_10.index, top_10.values, alpha=0.7)\n",
    "plt.title('Race distribution chart');"
   ]
  },
  {
   "cell_type": "markdown",
   "id": "e5e8522e",
   "metadata": {},
   "source": [
    "### obsevation:\n",
    "White people are by far more represented in the dataset, a distant second is black people\n"
   ]
  },
  {
   "cell_type": "markdown",
   "id": "254c80d0",
   "metadata": {},
   "source": [
    "### Question 3: \n",
    "For how long do people work in a week?"
   ]
  },
  {
   "cell_type": "markdown",
   "id": "92eb771d",
   "metadata": {},
   "source": [
    "### Visualization:"
   ]
  },
  {
   "cell_type": "code",
   "execution_count": 12,
   "id": "9d0311d7",
   "metadata": {},
   "outputs": [
    {
     "data": {
      "text/plain": [
       "40    15217\n",
       "50     2819\n",
       "45     1824\n",
       "60     1475\n",
       "Name: hours-per-week, dtype: int64"
      ]
     },
     "execution_count": 12,
     "metadata": {},
     "output_type": "execute_result"
    }
   ],
   "source": [
    "hours = df['hours-per-week'].value_counts()\n",
    "hours.head(4)"
   ]
  },
  {
   "cell_type": "code",
   "execution_count": 13,
   "id": "3d1dbcb5",
   "metadata": {},
   "outputs": [
    {
     "data": {
      "image/png": "[encoded data removed]",
      "text/plain": [
       "<Figure size 720x720 with 1 Axes>"
      ]
     },
     "metadata": {
      "needs_background": "light"
     },
     "output_type": "display_data"
    }
   ],
   "source": [
    "def hist_1(df_i, col, x_label, y_label, title, sub_x=1, sub_y=2, sub_z=1, fig_x =6, fig_y=15, alpha = 0, start_bins = 0.0):\n",
    "    plt.figure(figsize=[fig_x, fig_y])\n",
    "    plt.subplot(sub_x, sub_y, sub_z)\n",
    "    \n",
    "    bins = np.arange(start_bins, df[col].max()+5.5, 5)\n",
    "    plt.hist(data = df_i, x = col, bins=bins, alpha = alpha)\n",
    "    plt.xlabel(x_label)\n",
    "    plt.ylabel(y_label)\n",
    "    plt.title(title)\n",
    "    \n",
    "hist_1(df_i=df, col='hours-per-week', x_label = 'hours', y_label = 'population', title = 'distribution by weekly work hour', \n",
    "       alpha = 0.7, start_bins = 03.0,fig_x=10, fig_y=10,sub_x=2, sub_y=1, sub_z=1)"
   ]
  },
  {
   "cell_type": "markdown",
   "id": "ac39720e",
   "metadata": {},
   "source": [
    "### obsevation:\n",
    "Most people work the standard 40hrs per week (15,000 people), about 3000 people work 50 hrs every week"
   ]
  },
  {
   "cell_type": "markdown",
   "id": "19a7c745",
   "metadata": {},
   "source": [
    "### Question 4 :\n",
    "What is the distribution of education level"
   ]
  },
  {
   "cell_type": "markdown",
   "id": "5d2d8b38",
   "metadata": {},
   "source": [
    "### Visualization:"
   ]
  },
  {
   "cell_type": "code",
   "execution_count": 14,
   "id": "90e2bb99",
   "metadata": {},
   "outputs": [
    {
     "data": {
      "text/plain": [
       "HS-grad         10501\n",
       "Some-college     7291\n",
       "Bachelors        5355\n",
       "Masters          1723\n",
       "Assoc-voc        1382\n",
       "11th             1175\n",
       "Assoc-acdm       1067\n",
       "10th              933\n",
       "7th-8th           646\n",
       "Prof-school       576\n",
       "9th               514\n",
       "12th              433\n",
       "Doctorate         413\n",
       "5th-6th           333\n",
       "1st-4th           168\n",
       "Preschool          51\n",
       "Name: education, dtype: int64"
      ]
     },
     "execution_count": 14,
     "metadata": {},
     "output_type": "execute_result"
    }
   ],
   "source": [
    "edu = df['education'].value_counts()\n",
    "edu"
   ]
  },
  {
   "cell_type": "code",
   "execution_count": 15,
   "id": "b7acb9a7",
   "metadata": {},
   "outputs": [
    {
     "data": {
      "image/png": "[encoded data removed]",
      "text/plain": [
       "<Figure size 864x432 with 1 Axes>"
      ]
     },
     "metadata": {
      "needs_background": "light"
     },
     "output_type": "display_data"
    }
   ],
   "source": [
    "#plotting a horizontal barchart\n",
    "plt.figure(figsize = [12,6])\n",
    "plt.barh(edu.index, edu.values, alpha=0.7)\n",
    "plt.title('Education level distribution chart')\n",
    "plt.xlabel('population');"
   ]
  },
  {
   "cell_type": "markdown",
   "id": "8c2c4147",
   "metadata": {},
   "source": [
    "### obsevation:\n",
    "majority of them have either a some-college, high school or bachelors degree certificates, very few have preschool"
   ]
  },
  {
   "cell_type": "markdown",
   "id": "a0deef88",
   "metadata": {},
   "source": [
    "### Question 5: \n",
    "What is the age distribution amongst the people?"
   ]
  },
  {
   "cell_type": "markdown",
   "id": "75386a0e",
   "metadata": {},
   "source": [
    "### Visualization:"
   ]
  },
  {
   "cell_type": "code",
   "execution_count": 16,
   "id": "572575b0",
   "metadata": {},
   "outputs": [
    {
     "data": {
      "text/plain": [
       "36    898\n",
       "31    888\n",
       "Name: age, dtype: int64"
      ]
     },
     "execution_count": 16,
     "metadata": {},
     "output_type": "execute_result"
    }
   ],
   "source": [
    "ages = df['age'].value_counts()\n",
    "ages.head(2)"
   ]
  },
  {
   "cell_type": "code",
   "execution_count": 17,
   "id": "e9682ee6",
   "metadata": {},
   "outputs": [
    {
     "data": {
      "text/plain": [
       "31-40       8546\n",
       "21-30       8162\n",
       "41-50       6983\n",
       "51-60       4128\n",
       "17-20       2410\n",
       "61-70       1792\n",
       "71-80        441\n",
       "above 80      99\n",
       "Name: age_group, dtype: int64"
      ]
     },
     "execution_count": 17,
     "metadata": {},
     "output_type": "execute_result"
    }
   ],
   "source": [
    "ages1 = df.age_group.value_counts().sort_values(ascending =False)\n",
    "ages1"
   ]
  },
  {
   "cell_type": "code",
   "execution_count": 18,
   "id": "f23583d5",
   "metadata": {},
   "outputs": [
    {
     "name": "stderr",
     "output_type": "stream",
     "text": [
      "C:\\Users\\USER\\anaconda3\\lib\\site-packages\\seaborn\\_decorators.py:36: FutureWarning: Pass the following variables as keyword args: x, y. From version 0.12, the only valid positional argument will be `data`, and passing other arguments without an explicit keyword will result in an error or misinterpretation.\n",
      "  warnings.warn(\n"
     ]
    },
    {
     "data": {
      "image/png": "[encoded data removed]",
      "text/plain": [
       "<Figure size 1152x432 with 2 Axes>"
      ]
     },
     "metadata": {
      "needs_background": "light"
     },
     "output_type": "display_data"
    }
   ],
   "source": [
    "hist_1(df_i=df, col='age', x_label = 'age group', y_label = 'population', title = 'Age', \n",
    "       alpha = 1,fig_x=16, fig_y=6, sub_x=1, sub_y=2, sub_z=1)\n",
    "\n",
    "plt.subplot(1,2,2)\n",
    "base_color = sb.color_palette()[0]\n",
    "sb.barplot( ages1.index, ages1.values, color= base_color)\n",
    "plt.xlabel('Age group')\n",
    "plt.title('Age group distribution');"
   ]
  },
  {
   "cell_type": "markdown",
   "id": "8a98c882",
   "metadata": {},
   "source": [
    "### obsevation:\n",
    "The  age distribution is right skewed and the most frequent age group falls between 21 and 50 years"
   ]
  },
  {
   "cell_type": "markdown",
   "id": "9d16cb51",
   "metadata": {},
   "source": [
    "### Question 6:\n",
    "What is the population distribution by country of origin"
   ]
  },
  {
   "cell_type": "markdown",
   "id": "317b7c10",
   "metadata": {},
   "source": [
    "### Visualization:"
   ]
  },
  {
   "cell_type": "code",
   "execution_count": 19,
   "id": "ac804714",
   "metadata": {},
   "outputs": [
    {
     "data": {
      "text/plain": [
       "United-States                 29170\n",
       "Mexico                          643\n",
       "Philippines                     198\n",
       "Germany                         137\n",
       "Canada                          121\n",
       "Puerto-Rico                     114\n",
       "El-Salvador                     106\n",
       "India                           100\n",
       "Cuba                             95\n",
       "England                          90\n",
       "Jamaica                          81\n",
       "South                            80\n",
       "China                            75\n",
       "Italy                            73\n",
       "Dominican-Republic               70\n",
       "Vietnam                          67\n",
       "Guatemala                        64\n",
       "Japan                            62\n",
       "Poland                           60\n",
       "Columbia                         59\n",
       "Taiwan                           51\n",
       "Haiti                            44\n",
       "Iran                             43\n",
       "Portugal                         37\n",
       "Nicaragua                        34\n",
       "Peru                             31\n",
       "France                           29\n",
       "Greece                           29\n",
       "Ecuador                          28\n",
       "Ireland                          24\n",
       "Hong                             20\n",
       "Trinadad&Tobago                  19\n",
       "Cambodia                         19\n",
       "Thailand                         18\n",
       "Laos                             18\n",
       "Yugoslavia                       16\n",
       "Outlying-US(Guam-USVI-etc)       14\n",
       "Hungary                          13\n",
       "Honduras                         13\n",
       "Scotland                         12\n",
       "Holand-Netherlands                1\n",
       "Name: native-country, dtype: int64"
      ]
     },
     "execution_count": 19,
     "metadata": {},
     "output_type": "execute_result"
    }
   ],
   "source": [
    "country = df['native-country'].value_counts()\n",
    "country"
   ]
  },
  {
   "cell_type": "code",
   "execution_count": 20,
   "id": "61e85548",
   "metadata": {},
   "outputs": [],
   "source": [
    "US = country.values[0]\n",
    "others= country.values[1:].sum()\n"
   ]
  },
  {
   "cell_type": "code",
   "execution_count": 21,
   "id": "f726b39e",
   "metadata": {},
   "outputs": [
    {
     "data": {
      "image/png": "[encoded data removed]",
      "text/plain": [
       "<Figure size 1440x1080 with 4 Axes>"
      ]
     },
     "metadata": {
      "needs_background": "light"
     },
     "output_type": "display_data"
    }
   ],
   "source": [
    "#define size of figure\n",
    "plt.figure(figsize=[20,15])\n",
    "\n",
    "#subplots\n",
    "plt.subplot(2,2,1)\n",
    "plt.barh(country.index[:10],country.values[:10])\n",
    "plt.title('Top 10 countries')\n",
    "plt.xlabel('population')\n",
    "\n",
    "plt.subplot(2,2,2)\n",
    "plt.barh(country.index[1:11],country.values[1:11])\n",
    "plt.title('Top 10 countries without the US')\n",
    "plt.xlabel('population');\n",
    "\n",
    "plt.subplot(2,2,3)\n",
    "plt.barh(country.index[-10:],country.values[-10:])\n",
    "plt.title('Bottom 10 countries')\n",
    "plt.xlabel('population');\n",
    "\n",
    "plt.subplot(2,2,4)\n",
    "explode = [0.1, 0]\n",
    "label = ['US','others']\n",
    "#fig = plt.figure(figsize =(6, 6))\n",
    "plt.pie([US,others], labels = label, explode = explode, autopct='%1.1f%%',shadow=True, startangle=90, colors = ( \"#BADC58\", \"#22A6B3\")) \n",
    "plt.title('percentage distribution of salary groups between the US and others' )\n",
    "plt.axis('equal');"
   ]
  },
  {
   "cell_type": "markdown",
   "id": "138fd538",
   "metadata": {},
   "source": [
    "### obsevation:"
   ]
  },
  {
   "cell_type": "markdown",
   "id": "1bf4f723",
   "metadata": {},
   "source": [
    "### Discuss the distribution(s) of your variable(s) of interest. Were there any unusual points? Did you need to perform any transformations?\n",
    "\n",
    "I am mostly interested in the `salary` distribution, We can observe that about 76% of the people earn 50k and below while only 24% earn above 50k. We shall analyze further to unravel the factors that affect `salary` \n",
    "\n",
    "### Of the features you investigated, were there any unusual distributions? Did you perform any operations on the data to tidy, adjust, or change the form of the data? If so, why did you do this?\n",
    "\n",
    "No, the distribution is normal and there are no outliers"
   ]
  },
  {
   "cell_type": "markdown",
   "id": "4c21eb84",
   "metadata": {},
   "source": [
    "## Bivariate Exploration\n",
    "\n",
    "> In this section, I shall investigate relationships between pairs of variables in \n",
    "data.I will Make sure the variables that I cover here have been introduced in some\n",
    "fashion in the previous section (univariate exploration)."
   ]
  },
  {
   "cell_type": "markdown",
   "id": "31693081",
   "metadata": {},
   "source": [
    "### Question 7:\n",
    "What is the relationship between age and salary"
   ]
  },
  {
   "cell_type": "markdown",
   "id": "8cbf1bf3",
   "metadata": {},
   "source": [
    "### Visualization:"
   ]
  },
  {
   "cell_type": "code",
   "execution_count": 22,
   "id": "79255d81",
   "metadata": {},
   "outputs": [
    {
     "data": {
      "image/png": "[encoded data removed]",
      "text/plain": [
       "<Figure size 576x360 with 1 Axes>"
      ]
     },
     "metadata": {
      "needs_background": "light"
     },
     "output_type": "display_data"
    }
   ],
   "source": [
    "plt.figure(figsize=[8,5])\n",
    "base_color = sb.color_palette()[0]\n",
    "sb.violinplot(data=df,x='salary', y ='age', color=base_color, inner =None)\n",
    "plt.title('Salary by age distribution')\n",
    "plt.xlabel('Salary group');"
   ]
  },
  {
   "cell_type": "markdown",
   "id": "4dedaccd",
   "metadata": {},
   "source": [
    "### obsevation:\n",
    "I can observe that people between 20 and 30 are more likely to earn 50k and below, while people between 31 and 60 are more likely to earn above 50k"
   ]
  },
  {
   "cell_type": "markdown",
   "id": "c7ca6650",
   "metadata": {},
   "source": [
    "### Question 8:\n",
    "How does gender affect salary?"
   ]
  },
  {
   "cell_type": "markdown",
   "id": "77c3ab28",
   "metadata": {},
   "source": [
    "### Visualization:"
   ]
  },
  {
   "cell_type": "code",
   "execution_count": 23,
   "id": "0e506a0b",
   "metadata": {},
   "outputs": [
    {
     "data": {
      "image/png": "[encoded data removed]",
      "text/plain": [
       "<Figure size 432x360 with 1 Axes>"
      ]
     },
     "metadata": {
      "needs_background": "light"
     },
     "output_type": "display_data"
    }
   ],
   "source": [
    "plt.figure(figsize= [6,5])\n",
    "sb.countplot(data = df, x = 'salary', hue = 'sex')\n",
    "plt.title('Salary by gender');"
   ]
  },
  {
   "cell_type": "markdown",
   "id": "9e7ebd90",
   "metadata": {},
   "source": [
    "### obsevation:\n",
    "- There are more male folks in the Dataset. \n",
    "- Secondly, male folks are more likely to earn above 50k than the female folk"
   ]
  },
  {
   "cell_type": "markdown",
   "id": "adc9ee40",
   "metadata": {},
   "source": [
    "### Question 9 - 11:\n",
    "How do `education`, `age_group` and `race` affect `salary`?"
   ]
  },
  {
   "cell_type": "markdown",
   "id": "dd2fcfe4",
   "metadata": {},
   "source": [
    "### Visualization:"
   ]
  },
  {
   "cell_type": "code",
   "execution_count": 24,
   "id": "469ad967",
   "metadata": {},
   "outputs": [
    {
     "data": {
      "image/png": "[encoded data removed]",
      "text/plain": [
       "<Figure size 1440x864 with 4 Axes>"
      ]
     },
     "metadata": {
      "needs_background": "light"
     },
     "output_type": "display_data"
    }
   ],
   "source": [
    "plt.figure(figsize =[20,12])\n",
    "\n",
    "plt.subplot(2,2,1)\n",
    "sb.countplot(data=df, y='education', hue='salary')\n",
    "plt.title('Salary by education')\n",
    "plt.xlabel('population')\n",
    "\n",
    "plt.subplot(2,2,3)\n",
    "sb.countplot(data = df, y = 'age_group', hue = 'salary')\n",
    "plt.title('salary by age group')\n",
    "plt.xlabel('population')\n",
    "\n",
    "plt.subplot(2,2,4)\n",
    "sb.countplot(data = df, y = 'race', hue = 'salary')\n",
    "plt.title('Salary by race')\n",
    "plt.xlabel('population')\n",
    "\n",
    "plt.subplot(2,2,2)\n",
    "sb.countplot(data = df, y = 'education', hue = 'salary')\n",
    "plt.xlim(0,2000)\n",
    "plt.title('Salary by education zoomed in to 2000 people')\n",
    "plt.xlabel('population');"
   ]
  },
  {
   "cell_type": "markdown",
   "id": "7f074324",
   "metadata": {},
   "source": [
    "### obsevation:\n",
    "- people who have a `Bachelors`, `Masters`, `Doctorate` degrees and professors have high `>50k` / `>=50` ratio\n",
    "- There are more white folks in the Dataset. Secondly, white folks are more likely to earn above 50k than other races.\n",
    "- people above 31 and below 71 are more likely to earn above 50k however, people above 60 years are few in the dataset"
   ]
  },
  {
   "cell_type": "markdown",
   "id": "679c78ee",
   "metadata": {},
   "source": [
    "### Question 12:\n",
    "How does `relationship` affect `salary`"
   ]
  },
  {
   "cell_type": "markdown",
   "id": "56acbd8a",
   "metadata": {},
   "source": [
    "### Visualization:"
   ]
  },
  {
   "cell_type": "code",
   "execution_count": 25,
   "id": "91ab5cfa",
   "metadata": {},
   "outputs": [
    {
     "data": {
      "image/png": "[encoded data removed]",
      "text/plain": [
       "<Figure size 432x288 with 1 Axes>"
      ]
     },
     "metadata": {
      "needs_background": "light"
     },
     "output_type": "display_data"
    }
   ],
   "source": [
    "sb.countplot(data=df, y='relationship', hue='salary',palette='viridis')\n",
    "plt.title('Salary by relationship');"
   ]
  },
  {
   "cell_type": "markdown",
   "id": "24645ec7",
   "metadata": {},
   "source": [
    "### obsevation:\n",
    "I observed that married people are more likely to earn high wages than other groups"
   ]
  },
  {
   "cell_type": "markdown",
   "id": "6ad40bc1",
   "metadata": {},
   "source": [
    "### Talk about some of the relationships you observed in this part of the investigation. How did the feature(s) of interest vary with other features in the dataset?"
   ]
  },
  {
   "cell_type": "markdown",
   "id": "21fb9629",
   "metadata": {},
   "source": [
    "I discovered that these people are more likely to earn high salary:\n",
    "- People that have a degree\n",
    "- white people\n",
    "- married people\n",
    "- people over 35 and below 50\n",
    "- people who are men etc.\n",
    "\n",
    "\n",
    "### Did you observe any interesting relationships between the other features (not the main feature(s) of interest)?\n",
    "\n",
    "No, there is no relationship"
   ]
  },
  {
   "cell_type": "markdown",
   "id": "e384f75b",
   "metadata": {},
   "source": [
    "## Multivariate Exploration\n",
    "\n",
    "> Create plots of three or more variables to investigate your data even\n",
    "further. Make sure that your investigations are justified, and follow from\n",
    "your work in the previous sections."
   ]
  },
  {
   "cell_type": "markdown",
   "id": "f2d274c1",
   "metadata": {},
   "source": [
    "### Question 13:\n",
    "How does `age` and `workclass` affect `salary`?"
   ]
  },
  {
   "cell_type": "code",
   "execution_count": 26,
   "id": "0940143d",
   "metadata": {},
   "outputs": [
    {
     "data": {
      "image/png": "[encoded data removed]",
      "text/plain": [
       "<Figure size 504x432 with 1 Axes>"
      ]
     },
     "metadata": {
      "needs_background": "light"
     },
     "output_type": "display_data"
    }
   ],
   "source": [
    "plt.figure(figsize=[7,6])\n",
    "sb.barplot(data = df, y = 'workclass', x = 'age', hue = 'salary',palette= 'viridis' )\n",
    "plt.ylabel('')\n",
    "plt.xlabel('Average age')\n",
    "plt.title('Workclass and salary group by average age');"
   ]
  },
  {
   "cell_type": "markdown",
   "id": "0c7f4dac",
   "metadata": {},
   "source": [
    "### conclusion:\n",
    "Apart from `never-worked` and `without-pay` groups, people  that earned above 50k in other groups are generally older than people that earned less, also people that have never worked are mostly the young ones with an average age of about 20 years"
   ]
  },
  {
   "cell_type": "markdown",
   "id": "1a8b13c4",
   "metadata": {},
   "source": [
    "### Question 14:\n",
    "what is the relationship between `salary`, `age`and `sex`"
   ]
  },
  {
   "cell_type": "markdown",
   "id": "088a6eac",
   "metadata": {},
   "source": [
    "### Visualization:"
   ]
  },
  {
   "cell_type": "code",
   "execution_count": 27,
   "id": "661b4575",
   "metadata": {},
   "outputs": [
    {
     "data": {
      "text/plain": [
       "''"
      ]
     },
     "execution_count": 27,
     "metadata": {},
     "output_type": "execute_result"
    },
    {
     "data": {
      "image/png": "[encoded data removed]",
      "text/plain": [
       "<Figure size 864x576 with 1 Axes>"
      ]
     },
     "metadata": {
      "needs_background": "light"
     },
     "output_type": "display_data"
    }
   ],
   "source": [
    "plt.figure(figsize=(12,8))\n",
    "\n",
    "sb.stripplot(x='sex', y='age', data=df, jitter=True, hue='salary', dodge=True, palette='viridis')\n",
    "plt.title('Salary by sex and average age');"
   ]
  },
  {
   "cell_type": "markdown",
   "id": "190b9b2d",
   "metadata": {},
   "source": [
    "### conclusion:\n",
    "Both sexes have a similar distribution in people that earn below 50k, but much more males earn above 50k than women.Again everybody earning above 50k was above 20 years except for  person who is 19\n"
   ]
  },
  {
   "cell_type": "markdown",
   "id": "b18cfc46",
   "metadata": {},
   "source": [
    "### Question 5:\n",
    "How does education and duration of work per week affect salary?"
   ]
  },
  {
   "cell_type": "markdown",
   "id": "c54021b9",
   "metadata": {},
   "source": [
    "### Visualization:"
   ]
  },
  {
   "cell_type": "code",
   "execution_count": 28,
   "id": "4d87588e",
   "metadata": {},
   "outputs": [
    {
     "data": {
      "image/png": "[encoded data removed]",
      "text/plain": [
       "<Figure size 720x504 with 1 Axes>"
      ]
     },
     "metadata": {
      "needs_background": "light"
     },
     "output_type": "display_data"
    }
   ],
   "source": [
    "plt.figure(figsize=[10,7])\n",
    "sb.barplot(data = df, y = 'education', x = 'hours-per-week', hue = 'salary',palette= 'viridis' )\n",
    "plt.ylabel('')\n",
    "plt.xlabel('hours per week')\n",
    "plt.title('Education and work hour per week by salary');"
   ]
  },
  {
   "cell_type": "markdown",
   "id": "770daab6",
   "metadata": {},
   "source": [
    "### obsevation:\n",
    "I cannot see any pattern or correlation between education level and how long people worked, the only take away is that people that earn above 50k generally work for longer hours"
   ]
  },
  {
   "cell_type": "markdown",
   "id": "69823a68",
   "metadata": {},
   "source": [
    "### Talk about some of the relationships you observed in this part of the investigation. Were there features that strengthened each other in terms of looking at your feature(s) of interest?\n",
    "\n",
    "- In all workclass, people who earned above 50k are generally older than people who earned 50k and below \n",
    "- people who never worked have the average age of 20 years\n",
    "- People who earned above 50k worked for longer hours irrespective of their education level\n",
    "\n",
    "### Were there any interesting or surprising interactions between features?\n",
    "\n",
    "- Only one person below the age of 20 earns above 50k (must be a gem!)\n",
    "- There is no correlation between education level and how long people work, this is very surprising as I thought people with higher education would work less hours"
   ]
  },
  {
   "cell_type": "markdown",
   "id": "7938d10b",
   "metadata": {},
   "source": [
    "## Conclusions\n",
    "I would conclude by saying that you are more likely to earn above 50k in the US if you are:\n",
    "- a man\n",
    "- married\n",
    "- have atleast a bachelors degree\n",
    "- a white person (don't think it has to do with racism)\n",
    "- between the ages of 30 and 60 with 40 being the best age\n",
    "- working long hours\n",
    "\n"
   ]
  }
 ],
 "metadata": {
  "kernelspec": {
   "display_name": "Python 3",
   "language": "python",
   "name": "python3"
  },
  "language_info": {
   "codemirror_mode": {
    "name": "ipython",
    "version": 3
   },
   "file_extension": ".py",
   "mimetype": "text/x-python",
   "name": "python",
   "nbconvert_exporter": "python",
   "pygments_lexer": "ipython3",
   "version": "3.8.8"
  }
 },
 "nbformat": 4,
 "nbformat_minor": 5
}
